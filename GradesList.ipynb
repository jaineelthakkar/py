{
  "nbformat": 4,
  "nbformat_minor": 0,
  "metadata": {
    "colab": {
      "name": "GradesList.ipynb",
      "provenance": [],
      "authorship_tag": "ABX9TyProFZTKahp2uhzJcjI5W9v",
      "include_colab_link": true
    },
    "kernelspec": {
      "name": "python3",
      "display_name": "Python 3"
    },
    "language_info": {
      "name": "python"
    }
  },
  "cells": [
    {
      "cell_type": "markdown",
      "metadata": {
        "id": "view-in-github",
        "colab_type": "text"
      },
      "source": [
        "<a href=\"https://colab.research.google.com/github/jaineelthakkar/python/blob/main/GradesList.ipynb\" target=\"_parent\"><img src=\"https://colab.research.google.com/assets/colab-badge.svg\" alt=\"Open In Colab\"/></a>"
      ]
    },
    {
      "cell_type": "markdown",
      "source": [
        "**Name: Jaineel Thakkar**\n",
        "\n",
        "---\n",
        "\n",
        "\n",
        "\n",
        "The purpose of this program is to create a program using lists, random and mathematical expressions.\n",
        "\n",
        "Write a Python program that takes 7 random scores as inputs and appends them to a list (aGrades).\n",
        "\n",
        "Randomize the scores between 59 and 100). \n",
        "\n",
        "The final exam will be the last item in the list.  \n",
        "\n",
        "Calculate the number of exams as the length of the list minus one; assign examCount to len(aGrades)-1.\n",
        "Here we will introduce the function sum() to the class.\n",
        "The Total Points will be equal to the sum of the list minus the final exam.  \n",
        "Assign Total Points to sum(aGrades)- aGrades[lastitemIndex].\n",
        "Compute the Test Average to be equal to the Total Points divided by the length of the list minus one.  \n",
        "Assign Test Average to Total Points / examCount\n",
        "The final average will be equal to 60% of the test average plus 40% of the Final Exam.  \n",
        "Assign Final Average to Test Average *.6 + Final Exam * .4\n",
        "Display the grades list, test average and the final average on separate lines.  \n",
        "\n",
        "Upload the code, with comments explaining each line of code and their variables. "
      ],
      "metadata": {
        "id": "3VC37jiPUEx8"
      }
    },
    {
      "cell_type": "code",
      "execution_count": 11,
      "metadata": {
        "colab": {
          "base_uri": "https://localhost:8080/"
        },
        "id": "FjQe3-hRRxS-",
        "outputId": "76a25193-5580-454e-9b3a-7436d4a69180"
      },
      "outputs": [
        {
          "output_type": "stream",
          "name": "stdout",
          "text": [
            "Grades: [100, 99, 92, 73, 64, 66, 82]\n",
            "Test Average: 82.33\n",
            "Final Average: 82.20\n"
          ]
        }
      ],
      "source": [
        "import random\n",
        "\n",
        "aGrades = []\n",
        "for i in range(1, 8): # loop to append each grade in the list\n",
        "  grade = random.randint(59,100)\n",
        "  aGrades.append(grade)\n",
        "\n",
        "#Calculate the number of exams as the length of the list minus one; assign examCount to len(aGrades)-1.\n",
        "examCount = len(aGrades) - 1\n",
        "finalExam = aGrades[examCount] # the last index will be equal to examCount\n",
        "totalPoints = 0\n",
        "\n",
        "#Here we will introduce the function sum() to the class.\n",
        "totalPoints=sum(aGrades) \n",
        "#The Total Points will be equal to the sum of the list minus the final exam. #Assign Total Points to sum(aGrades)- aGrades[lastitemIndex]\n",
        "totalPoints=totalPoints-finalExam\n",
        "\n",
        "\n",
        "#Compute the Test Average to be equal to the Total Points divided by the length of the list minus one i.e. examcount\n",
        "testAverage = totalPoints / examCount\n",
        "#The final average will be equal to 60% of the test average plus 40% of the Final Exam\n",
        "finalAverage = testAverage * 0.6 + finalExam * 0.4\n",
        "\n",
        "print('Grades:', aGrades)\n",
        "print('Test Average: {:.2f}'.format(testAverage))\n",
        "print('Final Average: {:.2f}'.format(finalAverage))\n",
        "\n"
      ]
    },
    {
      "cell_type": "markdown",
      "source": [
        ""
      ],
      "metadata": {
        "id": "NTR8I16LUDV0"
      }
    }
  ]
}